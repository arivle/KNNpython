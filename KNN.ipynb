{
  "nbformat": 4,
  "nbformat_minor": 0,
  "metadata": {
    "colab": {
      "name": "KNN.ipynb",
      "version": "0.3.2",
      "provenance": [],
      "include_colab_link": true
    },
    "kernelspec": {
      "name": "python3",
      "display_name": "Python 3"
    }
  },
  "cells": [
    {
      "cell_type": "markdown",
      "metadata": {
        "id": "view-in-github",
        "colab_type": "text"
      },
      "source": [
        "<a href=\"https://colab.research.google.com/github/arivle/KNNpython/blob/master/KNN.ipynb\" target=\"_parent\"><img src=\"https://colab.research.google.com/assets/colab-badge.svg\" alt=\"Open In Colab\"/></a>"
      ]
    },
    {
      "cell_type": "code",
      "metadata": {
        "id": "RwDaqNFcGGrq",
        "colab_type": "code",
        "colab": {}
      },
      "source": [
        "import math\n",
        "from collections import defaultdict\n",
        "from operator import itemgetter\n",
        "\n",
        "import numpy as np\n",
        "import matplotlib.pyplot as plt\n",
        "\n",
        "warna =['red', 'green', 'blue']\n",
        "\n",
        "#-------------------KNN Function----------------------------\n",
        "\n",
        "def get_most_common_item (array):\n",
        "  count_dict = defaultdict(int)\n",
        "  for key in array :\n",
        "    count_dict[key] += 1\n",
        "  key, count = max(count_dict.items(), key=itemgetter(1))\n",
        "  return key\n",
        "\n",
        "def euclidean_dist(A, B):\n",
        "  return math.sqrt(sum([(A[i]-B[i])**2 for i, _ in enumerate(A)]))\n",
        "\n",
        "def knn(X_train, y_train, X_test, k=1):\n",
        "  y_test = []\n",
        "  for test_row in X_test:\n",
        "    eucl_dist = [euclidean_dist(train_row, test_row) for train_row in X_train]\n",
        "    sorted_eucl_dist = sorted(eucl_dist)\n",
        "    closest_knn = [eucl_dist.index(sorted_eucl_dist[i]) for i in range(o, k)] if k > else [eucl_dist.index(min(eucl_dist))]\n",
        "    closest_labels_knn = [y_train[x] for x in closest_knn]\n",
        "    y_test.append(get_most_common_item(closest_labels_knn))\n",
        "  return y_test\n",
        "\n",
        "def gambarGrafik():\n",
        "  plt.title('Classification KNN')\n",
        "  plt.xlabel('X1')\n",
        "  plt.ylabel('X2')\n",
        "  idx=0\n",
        "  for xy in X_train:\n",
        "    plt.scatter(xy[0],xy[1],color=warna[y_train[idx]], s=10)\n",
        "    idx+=1\n",
        "  plt.show()\n",
        "\n",
        "#-------------------END of KNN Function-------------------------------------------\n",
        "\n",
        "\n",
        "#-------------------start state-----------------------------------------------\n",
        "\n"
      ],
      "execution_count": 0,
      "outputs": []
    }
  ]
}