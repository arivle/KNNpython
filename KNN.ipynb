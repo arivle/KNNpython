{
  "nbformat": 4,
  "nbformat_minor": 0,
  "metadata": {
    "colab": {
      "name": "KNN.ipynb",
      "version": "0.3.2",
      "provenance": [],
      "collapsed_sections": [],
      "include_colab_link": true
    },
    "kernelspec": {
      "name": "python3",
      "display_name": "Python 3"
    }
  },
  "cells": [
    {
      "cell_type": "markdown",
      "metadata": {
        "id": "view-in-github",
        "colab_type": "text"
      },
      "source": [
        "<a href=\"https://colab.research.google.com/github/arivle/KNNpython/blob/master/KNN.ipynb\" target=\"_parent\"><img src=\"https://colab.research.google.com/assets/colab-badge.svg\" alt=\"Open In Colab\"/></a>"
      ]
    },
    {
      "cell_type": "code",
      "metadata": {
        "id": "RwDaqNFcGGrq",
        "colab_type": "code",
        "colab": {
          "base_uri": "https://localhost:8080/",
          "height": 716
        },
        "outputId": "67422a8f-47eb-450b-cc4e-2a65254a5e81"
      },
      "source": [
        "import math\n",
        "from collections import defaultdict\n",
        "from operator import itemgetter\n",
        "\n",
        "import numpy as np\n",
        "import matplotlib.pyplot as plt\n",
        "\n",
        "warna =['red', 'green', 'blue']\n",
        "\n",
        "#-------------------KNN Function----------------------------\n",
        "\n",
        "def get_most_common_item (array):\n",
        "  count_dict = defaultdict(int)\n",
        "  for key in array :\n",
        "    count_dict[key] += 1\n",
        "  key, count = max(count_dict.items(), key=itemgetter(1))\n",
        "  return key\n",
        "\n",
        "def euclidean_dist(A, B):\n",
        "  return math.sqrt(sum([(A[i]-B[i])**2 for i, _ in enumerate(A)]))\n",
        "\n",
        "def knn(X_train, y_train, X_test, k=1):\n",
        "  y_test = []\n",
        "  for test_row in X_test:\n",
        "    eucl_dist = [euclidean_dist(train_row, test_row) for train_row in X_train]\n",
        "    sorted_eucl_dist = sorted(eucl_dist)\n",
        "    closest_knn = [eucl_dist.index(sorted_eucl_dist[i]) for i in range(0, k)] if k > 1 else [eucl_dist.index(min(eucl_dist))]\n",
        "    closest_labels_knn = [y_train[x] for x in closest_knn]\n",
        "    y_test.append(get_most_common_item(closest_labels_knn))\n",
        "  return y_test\n",
        "\n",
        "def gambarGrafik():\n",
        "  plt.title('Classification KNN')\n",
        "  plt.xlabel('X1')\n",
        "  plt.ylabel('X2')\n",
        "  idx=0\n",
        "  for xy in X_train:\n",
        "    plt.scatter(xy[0],xy[1],color=warna[y_train[idx]], s=10)\n",
        "    idx+=1\n",
        "  plt.show()\n",
        "\n",
        "#-------------------END of KNN Function-------------------------------------------\n",
        "\n",
        "\n",
        "#-------------------start state-----------------------------------------------\n",
        "#The Data Train (X_train)\n",
        "X_train = [\n",
        "    [1, 1],\n",
        "    [1, 2],\n",
        "    [2, 4],\n",
        "    [3, 5],\n",
        "    [1, 0],\n",
        "    [0, 0],\n",
        "    [1, -2],\n",
        "    [-1, 0],\n",
        "    [-1, -2],\n",
        "    [-2, -2]\n",
        "]\n",
        "\n",
        "#y_train is the dependent data from X_train\n",
        "y_train = [1, 1, 1, 1, 1, 2, 2, 2, 2, 2]\n",
        "\n",
        "# The data test (dummy)\n",
        "X_test = [\n",
        "    [5, 5],\n",
        "    [0, -1],\n",
        "    [-5, -5]\n",
        "]\n",
        "\n",
        "#visualize the data before the classification \n",
        "# blue if the plot is 1 in Y_train\n",
        "# purple if the plot is 2 in Y_train\n",
        "# red if the plot are unclassified\n",
        "print ('\\033[1m' + \"Graph before classification\")\n",
        "idx=0\n",
        "for xy in X_test:\n",
        "    plt.scatter(xy[0],xy[1],color=warna[0])\n",
        "    idx+=1\n",
        "\n",
        "gambarGrafik()\n",
        "print (\"Classify the data test!\")\n",
        "print ()\n",
        "\n",
        "print (\"========================================================\")\n",
        "\n",
        "# the answer:\n",
        "y_test= knn(X_train, y_train, X_test, k=2) #calling KNN function\n",
        "\n",
        "print (\"Answer: \\nResult of Y_test of X_test : \",y_test)\n",
        "print ()\n",
        "\n",
        "# menggambarkan grafik hasil klasifikasi\n",
        "print ('\\033[1m' + \"Graph after classification\")\n",
        "idx=0\n",
        "for xy in X_test:\n",
        "    plt.scatter(xy[0],xy[1],color=warna[y_test[idx]])\n",
        "    idx+=1\n",
        "\n",
        "gambarGrafik()\n",
        "\n",
        "# ------------------------ END of State --------------------------\n",
        "\n",
        "\n"
      ],
      "execution_count": 3,
      "outputs": [
        {
          "output_type": "stream",
          "text": [
            "\u001b[1mGraph before classification\n"
          ],
          "name": "stdout"
        },
        {
          "output_type": "display_data",
          "data": {
            "image/png": "[encoded data removed]",
            "text/plain": [
              "<Figure size 432x288 with 1 Axes>"
            ]
          },
          "metadata": {
            "tags": []
          }
        },
        {
          "output_type": "stream",
          "text": [
            "Classify the data test!\n",
            "\n",
            "========================================================\n",
            "Answer: \n",
            "Result of Y_test of X_test :  [1, 2, 2]\n",
            "\n",
            "\u001b[1mGraph after classification\n"
          ],
          "name": "stdout"
        },
        {
          "output_type": "display_data",
          "data": {
            "image/png": "[encoded data removed]",
            "text/plain": [
              "<Figure size 432x288 with 1 Axes>"
            ]
          },
          "metadata": {
            "tags": []
          }
        }
      ]
    }
  ]
}